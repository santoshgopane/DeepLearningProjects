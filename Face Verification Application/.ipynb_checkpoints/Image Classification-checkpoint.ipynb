{
 "cells": [
  {
   "cell_type": "code",
   "execution_count": 1,
   "metadata": {},
   "outputs": [],
   "source": [
    "import face_recognition as FR"
   ]
  },
  {
   "cell_type": "code",
   "execution_count": null,
   "metadata": {},
   "outputs": [],
   "source": []
  },
  {
   "cell_type": "code",
   "execution_count": null,
   "metadata": {},
   "outputs": [],
   "source": [
    "def DetectFace(Filename, Size=((160, 160))):\n",
    "\n",
    "    UserImage = cv2.imread(Filename)\n",
    "    UserImage = cv2.cvtColor(UserImage, cv2.COLOR_BGR2RGB)\n",
    "    ImageArray = np.array(UserImage)\n",
    "    \n",
    "    \n",
    "    FaceDetails = fr.face_locations(\n",
    "    \n",
    "    try:\n",
    "        x, y, width, height = FaceDetails[0][\"box\"]\n",
    "        x1, y1, x2, y2 = abs(x), abs(y), x + width, y + height\n",
    "        FacePoints = ImageArray[y1:y2, x1:x2]\n",
    "        CroppedFace = Image.fromarray(FacePoints)\n",
    "        CroppedFace = CroppedFace.resize(Size)\n",
    "        FaceArray = np.array(CroppedFace)\n",
    "        print(\"loded file:\",Filename)\n",
    "    except:\n",
    "        FaceArray = []\n",
    "        print(\"Could not detect face for:\", Filename)\n",
    "    return FaceArray\n",
    "\n",
    "\n",
    "def LoadDataset(Directory):\n",
    "    x, y = [], []\n",
    "    for subdir in listdir(Directory):\n",
    "\n",
    "        path = Directory + subdir + \"/\"\n",
    "\n",
    "        AllFacesArray = []\n",
    "        for File in listdir(path):\n",
    "            FaceArray = DetectFace(path + File)\n",
    "            if FaceArray != []:\n",
    "                AllFacesArray.append(FaceArray)\n",
    "\n",
    "        x.extend(AllFacesArray)\n",
    "        Labels = [subdir for _ in range(len(AllFacesArray))]\n",
    "        y.extend(Labels)\n",
    "        # print(Labels)\n",
    "\n",
    "    return np.array(x), np.array(y)\n",
    "\n",
    "\n",
    "def GetFaceEmbeddings(Model, FacePixels):\n",
    "    FacePixels = FacePixels.astype(\"float32\")\n",
    "#     Mean, Std = FacePixels.mean(), FacePixels.std()\n",
    "#     FacePixels = (FacePixels - Mean) / Std\n",
    "    Sample = expand_dims(FacePixels, axis=0)\n",
    "#     print(\"Sample:\",Sample.shape)\n",
    "    Yhat = Model.embeddings(Sample)\n",
    "#     print(Yhat.shape)\n",
    "    return Yhat[0]"
   ]
  },
  {
   "cell_type": "code",
   "execution_count": null,
   "metadata": {},
   "outputs": [],
   "source": []
  },
  {
   "cell_type": "code",
   "execution_count": null,
   "metadata": {},
   "outputs": [],
   "source": []
  },
  {
   "cell_type": "code",
   "execution_count": null,
   "metadata": {},
   "outputs": [],
   "source": []
  },
  {
   "cell_type": "code",
   "execution_count": null,
   "metadata": {},
   "outputs": [],
   "source": []
  },
  {
   "cell_type": "code",
   "execution_count": null,
   "metadata": {},
   "outputs": [],
   "source": []
  },
  {
   "cell_type": "code",
   "execution_count": null,
   "metadata": {},
   "outputs": [],
   "source": []
  },
  {
   "cell_type": "code",
   "execution_count": null,
   "metadata": {},
   "outputs": [],
   "source": []
  }
 ],
 "metadata": {
  "kernelspec": {
   "display_name": "Python 3",
   "language": "python",
   "name": "python3"
  },
  "language_info": {
   "codemirror_mode": {
    "name": "ipython",
    "version": 3
   },
   "file_extension": ".py",
   "mimetype": "text/x-python",
   "name": "python",
   "nbconvert_exporter": "python",
   "pygments_lexer": "ipython3",
   "version": "3.6.2"
  }
 },
 "nbformat": 4,
 "nbformat_minor": 4
}
