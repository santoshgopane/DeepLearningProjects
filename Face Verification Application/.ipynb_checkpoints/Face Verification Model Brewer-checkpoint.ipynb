{
 "cells": [
  {
   "cell_type": "code",
   "execution_count": null,
   "metadata": {},
   "outputs": [],
   "source": [
    "import warnings\n",
    "import os\n",
    "\n",
    "warnings.simplefilter(\"ignore\", category=FutureWarning)\n",
    "os.environ[\"TF_CPP_MIN_LOG_LEVEL\"] = \"2\"\n",
    "import numpy as np\n",
    "import pandas as pd\n",
    "import tensorflow as tf\n",
    "import keras\n",
    "import cv2\n",
    "from os import listdir\n",
    "import matplotlib.pyplot as plt\n",
    "\n",
    "from PIL import Image\n",
    "from mtcnn.mtcnn import MTCNN\n",
    "\n",
    "from keras.models import load_model\n",
    "from numpy import savez_compressed, expand_dims, load\n",
    "\n",
    "from sklearn.svm import SVC\n",
    "from sklearn.preprocessing import Normalizer\n",
    "from keras_facenet import FaceNet\n",
    "# from keras_vggface.utils import preprocess_input\n",
    "# from keras_vggface.vggface import VGGFace\n",
    "# from scipy.spatial.distance import cosine\n",
    "\n",
    "import pickle"
   ]
  },
  {
   "cell_type": "code",
   "execution_count": 2,
   "metadata": {},
   "outputs": [
    {
     "name": "stdout",
     "output_type": "stream",
     "text": [
      "Collecting keras-facenet\n",
      "  Downloading keras-facenet-0.3.2.tar.gz (10 kB)\n",
      "Requirement already satisfied: mtcnn in c:\\users\\win10\\anaconda3\\envs\\deeplearningproject\\lib\\site-packages (from keras-facenet) (0.1.0)\n",
      "Requirement already satisfied: opencv-python>=4.1.0 in c:\\users\\win10\\anaconda3\\envs\\deeplearningproject\\lib\\site-packages (from mtcnn->keras-facenet) (4.4.0.46)\n",
      "Requirement already satisfied: keras>=2.0.0 in c:\\users\\win10\\anaconda3\\envs\\deeplearningproject\\lib\\site-packages (from mtcnn->keras-facenet) (2.6.0)\n",
      "Requirement already satisfied: numpy>=1.13.3 in c:\\users\\win10\\anaconda3\\envs\\deeplearningproject\\lib\\site-packages (from opencv-python>=4.1.0->mtcnn->keras-facenet) (1.19.2)\n",
      "Building wheels for collected packages: keras-facenet\n",
      "  Building wheel for keras-facenet (setup.py): started\n",
      "  Building wheel for keras-facenet (setup.py): finished with status 'done'\n",
      "  Created wheel for keras-facenet: filename=keras_facenet-0.3.2-py3-none-any.whl size=10385 sha256=8f5358f7c0e32eb6d7936e0e7b620fcb98b9fe27a63d6a189ca37180bcf3fd6c\n",
      "  Stored in directory: c:\\users\\win10\\appdata\\local\\pip\\cache\\wheels\\4b\\81\\ea\\fddceb26a9ae1c396ffba7f663b4157c90c52ec2c6d61cfceb\n",
      "Successfully built keras-facenet\n",
      "Installing collected packages: keras-facenet\n",
      "Successfully installed keras-facenet-0.3.2\n"
     ]
    }
   ],
   "source": [
    "!pip install keras-facenet"
   ]
  },
  {
   "cell_type": "code",
   "execution_count": 25,
   "metadata": {},
   "outputs": [
    {
     "name": "stdout",
     "output_type": "stream",
     "text": [
      "WARNING:tensorflow:No training configuration found in the save file, so the model was *not* compiled. Compile it manually.\n"
     ]
    }
   ],
   "source": [
    "KerasModel = load_model(\n",
    "    \"C:/Computer Vision Projects/FaceDetection/Model/facenet_keras.h5\"\n",
    ")"
   ]
  },
  {
   "cell_type": "code",
   "execution_count": 26,
   "metadata": {},
   "outputs": [],
   "source": [
    "mtcnn = MTCNN()"
   ]
  },
  {
   "cell_type": "code",
   "execution_count": 28,
   "metadata": {},
   "outputs": [],
   "source": [
    "def DetectFace(Filename, Size=((160, 160))):\n",
    "\n",
    "    UserImage = cv2.imread(Filename)\n",
    "    UserImage = cv2.cvtColor(UserImage, cv2.COLOR_BGR2RGB)\n",
    "    ImageArray = np.array(UserImage)\n",
    "    FaceDetails = mtcnn.detect_faces(ImageArray)\n",
    "    try:\n",
    "        x, y, width, height = FaceDetails[0][\"box\"]\n",
    "        x1, y1, x2, y2 = abs(x), abs(y), x + width, y + height\n",
    "        FacePoints = ImageArray[y1:y2, x1:x2]\n",
    "        CroppedFace = Image.fromarray(FacePoints)\n",
    "        CroppedFace = CroppedFace.resize(Size)\n",
    "        FaceArray = np.array(CroppedFace)\n",
    "    except:\n",
    "        FaceArray = []\n",
    "        print(\"Could not detect face for:\", Filename)\n",
    "    return FaceArray\n",
    "\n",
    "\n",
    "def LoadDataset(Directory):\n",
    "    x, y = [], []\n",
    "    for subdir in listdir(Directory):\n",
    "\n",
    "        path = Directory + subdir + \"/\"\n",
    "\n",
    "        AllFacesArray = []\n",
    "        for File in listdir(path):\n",
    "            FaceArray = DetectFace(path + File)\n",
    "            if FaceArray != []:\n",
    "                AllFacesArray.append(FaceArray)\n",
    "\n",
    "        x.extend(AllFacesArray)\n",
    "        Labels = [subdir for _ in range(len(AllFacesArray))]\n",
    "        y.extend(Labels)\n",
    "        # print(Labels)\n",
    "\n",
    "    return np.array(x), np.array(y)\n",
    "\n",
    "\n",
    "def GetFaceEmbeddings(Model, FacePixels):\n",
    "    FacePixels = FacePixels.astype(\"float32\")\n",
    "    Mean, Std = FacePixels.mean(), FacePixels.std()\n",
    "    FacePixels = (FacePixels - Mean) / Std\n",
    "    Sample = expand_dims(FacePixels, axis=0)\n",
    "    # print(\"Sample:\", Sample)\n",
    "    Yhat = Model.predict(Sample)\n",
    "    return Yhat[0]"
   ]
  },
  {
   "cell_type": "code",
   "execution_count": 29,
   "metadata": {},
   "outputs": [
    {
     "name": "stderr",
     "output_type": "stream",
     "text": [
      "C:\\Users\\win10\\anaconda3\\envs\\DeepLearningProject\\lib\\site-packages\\ipykernel_launcher.py:29: DeprecationWarning: elementwise comparison failed; this will raise an error in the future.\n"
     ]
    }
   ],
   "source": [
    "TrainData = LoadDataset(\"D:/Deep Learning/Face Verification Training Data/\")\n",
    "x_train, y_train = TrainData\n",
    "# x_test, y_test = TestingData\n",
    "new_train_x = []\n",
    "for x_pixels in x_train:\n",
    "    # print(\"here\")\n",
    "    embedding = GetFaceEmbeddings(KerasModel, x_pixels)\n",
    "    new_train_x.append(embedding)\n",
    "new_train_x = np.array(new_train_x)"
   ]
  },
  {
   "cell_type": "code",
   "execution_count": 30,
   "metadata": {},
   "outputs": [],
   "source": [
    "XTrain, YTrain = new_train_x, y_train\n",
    "\n",
    "InEncoder = Normalizer(norm=\"l2\")\n",
    "XTrain = InEncoder.transform(XTrain)"
   ]
  },
  {
   "cell_type": "code",
   "execution_count": 31,
   "metadata": {},
   "outputs": [
    {
     "data": {
      "text/plain": [
       "SVC(gamma='auto', kernel='linear', probability=True, random_state=15)"
      ]
     },
     "execution_count": 31,
     "metadata": {},
     "output_type": "execute_result"
    }
   ],
   "source": [
    "Model = SVC(kernel=\"linear\", probability=True, gamma=\"auto\", random_state=15)\n",
    "Model.fit(XTrain, YTrain)"
   ]
  },
  {
   "cell_type": "code",
   "execution_count": 32,
   "metadata": {},
   "outputs": [
    {
     "name": "stdout",
     "output_type": "stream",
     "text": [
      "Training Accuracy:  0.996\n"
     ]
    }
   ],
   "source": [
    "print('Training Accuracy: ',Model.score(XTrain,YTrain))"
   ]
  },
  {
   "cell_type": "code",
   "execution_count": 33,
   "metadata": {},
   "outputs": [],
   "source": [
    "pickle.dump(\n",
    "    Model,\n",
    "    open(\n",
    "        \"C:/Deep Learning Projects/Face Verification Application/model/FaceDetectionModelV4.model\",\n",
    "        \"wb\",\n",
    "    ),\n",
    ")"
   ]
  },
  {
   "cell_type": "code",
   "execution_count": null,
   "metadata": {},
   "outputs": [],
   "source": []
  },
  {
   "cell_type": "code",
   "execution_count": null,
   "metadata": {},
   "outputs": [],
   "source": []
  },
  {
   "cell_type": "code",
   "execution_count": null,
   "metadata": {},
   "outputs": [],
   "source": []
  },
  {
   "cell_type": "code",
   "execution_count": null,
   "metadata": {},
   "outputs": [],
   "source": []
  },
  {
   "cell_type": "code",
   "execution_count": null,
   "metadata": {},
   "outputs": [],
   "source": []
  },
  {
   "cell_type": "code",
   "execution_count": null,
   "metadata": {},
   "outputs": [],
   "source": []
  },
  {
   "cell_type": "code",
   "execution_count": null,
   "metadata": {},
   "outputs": [],
   "source": []
  },
  {
   "cell_type": "code",
   "execution_count": null,
   "metadata": {},
   "outputs": [],
   "source": []
  },
  {
   "cell_type": "code",
   "execution_count": null,
   "metadata": {},
   "outputs": [],
   "source": []
  },
  {
   "cell_type": "code",
   "execution_count": null,
   "metadata": {},
   "outputs": [],
   "source": []
  }
 ],
 "metadata": {
  "kernelspec": {
   "display_name": "Python 3",
   "language": "python",
   "name": "python3"
  },
  "language_info": {
   "codemirror_mode": {
    "name": "ipython",
    "version": 3
   },
   "file_extension": ".py",
   "mimetype": "text/x-python",
   "name": "python",
   "nbconvert_exporter": "python",
   "pygments_lexer": "ipython3",
   "version": "3.6.2"
  },
  "vscode": {
   "interpreter": {
    "hash": "fea0466274de65d0a9646a58d55cd55c063d9d7e27ec3580f48562cf541cacfd"
   }
  }
 },
 "nbformat": 4,
 "nbformat_minor": 4
}
